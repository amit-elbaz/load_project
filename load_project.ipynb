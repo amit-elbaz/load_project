{
 "cells": [
  {
   "cell_type": "code",
   "execution_count": null,
   "id": "afbe7059-f788-4c7b-84fd-c2ddb20cd98f",
   "metadata": {},
   "outputs": [],
   "source": [
    "import mlrun\n",
    "import os\n",
    "%config Completer.use_jedi = False"
   ]
  },
  {
   "cell_type": "code",
   "execution_count": null,
   "id": "12025c4b-9159-4614-a501-149a4d6b7d33",
   "metadata": {},
   "outputs": [],
   "source": [
    "project = mlrun.load_project(name=\"load-project\", url=\"git://github.com/amit-elbaz/load_project.git\", context=\"./context\",clone=True, user_project=True)"
   ]
  },
  {
   "cell_type": "code",
   "execution_count": null,
   "id": "ed1b8973-4222-47da-9240-c909afc59241",
   "metadata": {},
   "outputs": [],
   "source": [
    "print(project.to_yaml())"
   ]
  },
  {
   "cell_type": "markdown",
   "id": "725cd080-4012-4fe6-be68-66c8f385dea6",
   "metadata": {},
   "source": [
    "### Regular jobs"
   ]
  },
  {
   "cell_type": "code",
   "execution_count": null,
   "id": "dcec2149-aa72-4743-88f3-37587875f3d3",
   "metadata": {},
   "outputs": [],
   "source": [
    "for i in range(3):\n",
    "    job_num = str(i)\n",
    "    \n",
    "    # Every 30 min\n",
    "    project.run_function(\"normal_job_sec\", name=f\"sched_job_sec_30m_{job_num}\", schedule=\"30 * * * *\", watch=False)\n",
    "    project.run_function(\"normal_job_min\", name=f\"sched_job_min_30m_{job_num}\", schedule=\"30 * * * *\", watch=False)\n",
    "    project.run_function(\"normal_job_hour\", name=f\"sched_job_hour_30m_{job_num}\", schedule=\"30 * * * *\", watch=False)\n",
    "    \n",
    "    # Every 1 hour\n",
    "    project.run_function(\"normal_job_sec\", name=f\"sched_job_sec_1h_{job_num}\", schedule=\"0 * * * *\", watch=False)\n",
    "    project.run_function(\"normal_job_min\", name=f\"sched_job_min_1h_{job_num}\", schedule=\"0 * * * *\", watch=False)\n",
    "    project.run_function(\"normal_job_hour\", name=f\"sched_job_hour_1h_{job_num}\", schedule=\"0 * * * *\", watch=False)\n",
    "\n",
    "    # Every 4 hours\n",
    "    project.run_function(\"normal_job_sec\", name=f\"sched_job_sec_4h_{job_num}\", schedule=\"0 */4 * * *\", watch=False)\n",
    "    project.run_function(\"normal_job_min\", name=f\"sched_job_min_4h_{job_num}\", schedule=\"0 */4 * * *\", watch=False)\n",
    "    project.run_function(\"normal_job_hour\", name=f\"sched_job_hour_4h_{job_num}\", schedule=\"0 */4 * * *\", watch=False)\n",
    "    \n",
    "    # Every 24 hours\n",
    "    project.run_function(\"normal_job_sec\", name=f\"sched_job_sec_24h_{job_num}\", schedule=\"0 0 */1 * *\", watch=False)\n",
    "    project.run_function(\"normal_job_min\", name=f\"sched_job_min_24h_{job_num}\", schedule=\"0 0 */1 * *\", watch=False)\n",
    "    project.run_function(\"normal_job_hour\", name=f\"sched_job_hour_24h_{job_num}\", schedule=\"0 0 */1 * *\", watch=False)\n",
    "\n",
    "    # Every 3 days\n",
    "    project.run_function(\"normal_job_sec\", name=f\"sched_job_sec_3d_{job_num}\", schedule=\"0 0 */3 * *\", watch=False)\n",
    "    project.run_function(\"normal_job_min\", name=f\"sched_job_min_3d_{job_num}\", schedule=\"0 0 */3 * *\", watch=False)\n",
    "    project.run_function(\"normal_job_hour\", name=f\"sched_job_hour_3d_{job_num}\", schedule=\"0 0 */3 * *\", watch=False)"
   ]
  },
  {
   "cell_type": "markdown",
   "id": "d2ebd676-ce13-49e3-8b86-14618e76b326",
   "metadata": {},
   "source": [
    "### Spark"
   ]
  },
  {
   "cell_type": "code",
   "execution_count": null,
   "id": "09bed013-4978-41b2-a6ae-7550eb826057",
   "metadata": {},
   "outputs": [],
   "source": [
    "spark_func = mlrun.code_to_function(name=\"spark-read\",\n",
    "                                    kind=\"spark\",\n",
    "                                    handler=\"spark_handler\",\n",
    "                                    filename=\"spark_jobs_func.py\", requirements=[\"scikit-learn\"]\n",
    "                                   ).apply(mlrun.auto_mount())\n",
    "spark_func.with_executor_requests(cpu=\"1\",mem=\"1G\")\n",
    "spark_func.with_driver_requests(cpu=\"1\",mem=\"1G\")\n",
    "spark_func.with_driver_limits(cpu=\"1\")\n",
    "spark_func.with_executor_limits(cpu=\"1\")\n",
    "spark_func.with_igz_spark()\n",
    "spark_func.spec.image_pull_policy = \"Always\"\n",
    "spark_func.spec.replicas = 2"
   ]
  },
  {
   "cell_type": "code",
   "execution_count": null,
   "id": "0e076839-0f37-4b4e-a6b5-bca5c694540d",
   "metadata": {},
   "outputs": [],
   "source": [
    "spark_func.deploy()"
   ]
  },
  {
   "cell_type": "code",
   "execution_count": null,
   "id": "64bd7fe5-4ad5-4821-84e6-f4cc42eb1f5c",
   "metadata": {},
   "outputs": [],
   "source": [
    "spark_func.run(schedule=\"0 * * * *\")"
   ]
  },
  {
   "cell_type": "markdown",
   "id": "d10a87cc-fcec-4dc8-ba28-dc9c8cc693d3",
   "metadata": {},
   "source": [
    "### Dask"
   ]
  },
  {
   "cell_type": "code",
   "execution_count": null,
   "id": "afc80009-b670-435f-9fc7-8d961048834e",
   "metadata": {},
   "outputs": [],
   "source": [
    "dask_cluster = mlrun.new_function(\"dask-cluster\", kind='dask', image='mlrun/ml-models')\n",
    "dask_cluster.apply(mlrun.mount_v3io())        # add volume mounts\n",
    "dask_cluster.spec.service_type = \"NodePort\"   # open interface to the dask UI dashboard\n",
    "dask_cluster.spec.replicas = 1             # define one container\n",
    "dask_cluster.set_env(\"MLRUN_DBPATH\",os.environ[\"MLRUN_DBPATH\"])\n",
    "dask_cluster.set_env(\"MLRUN_DEFAULT_PROJECT\",project.name)\n",
    "uri = dask_cluster.save()"
   ]
  },
  {
   "cell_type": "code",
   "execution_count": null,
   "id": "6dfc0e5e-3457-4560-a2e8-db5423472acf",
   "metadata": {},
   "outputs": [],
   "source": [
    "project.run_function('dask_func',hyperparams={\"i\":[1,10,20,30,40]},schedule=\"0 * * * *\", hyper_param_options={\"strategy\":\"list\",\"parallel_runs\":1,\"dask_cluster_uri\":uri,\"teardown_dask\":True})"
   ]
  },
  {
   "cell_type": "markdown",
   "id": "f094d280-e246-44b8-ae20-caa50683c122",
   "metadata": {},
   "source": [
    "### Nuclio"
   ]
  },
  {
   "cell_type": "code",
   "execution_count": null,
   "id": "8bd7497b-9840-47dd-b00c-46f7fb4542d2",
   "metadata": {},
   "outputs": [],
   "source": [
    "for i in range(3):\n",
    "    job_num = str(i)\n",
    "    # Create a simple nuclio function\n",
    "    project.deploy_function(\"nuclio_func\", tag=job_num)\n"
   ]
  },
  {
   "cell_type": "markdown",
   "id": "e8dbc101-0565-475d-b0f8-04cfbbcf419d",
   "metadata": {},
   "source": [
    "### Serving"
   ]
  },
  {
   "cell_type": "code",
   "execution_count": null,
   "id": "c5a076b0-f053-457a-8447-448458a1c1e6",
   "metadata": {},
   "outputs": [],
   "source": [
    "models_dir = mlrun.get_sample_path(\"models/serving/\")\n",
    "\n",
    "suffix = (\n",
    "    mlrun.__version__.split(\"-\")[0].replace(\".\", \"_\")\n",
    "    if sys.version_info[1] > 7\n",
    "    else \"3.7\"\n",
    ")\n",
    "\n",
    "\n",
    "framework_sklearn = \"sklearn\"  # change to 'keras' to try the 2nd option\n",
    "kwargs = {}\n",
    "\n",
    "serving_class = \"mlrun.frameworks.sklearn.SklearnModelServer\"\n",
    "model_path = models_dir + f\"sklearn-{suffix}.pkl\"\n",
    "image = \"mlrun/mlrun\"\n",
    "\n",
    "model_object = project.log_model(f\"{framework_sklearn}-model\", model_file=model_path, **kwargs)\n",
    "serving_sklearn = mlrun.new_function(\"serving_sklearn\", image=image, kind=\"serving\", requirements=[\"scikit-learn\"])\n",
    "serving_sklearn.add_model(\n",
    "    framework_sklearn, model_path=model_object.uri, class_name=serving_class, to_list=True\n",
    ")\n",
    "project.deploy_function(serving_sklearn)\n",
    "\n",
    "\n",
    "framework_keras = \"keras\"\n",
    "serving_class = \"mlrun.frameworks.tf_keras.TFKerasModelServer\"\n",
    "model_path = models_dir + \"keras.h5\"\n",
    "image = \"mlrun/ml-models\"  # or mlrun/ml-models-gpu when using GPUs\n",
    "kwargs[\"labels\"] = {\"model-format\": \"h5\"}\n",
    "\n",
    "model_object = project.log_model(f\"{framework_keras}-model\", model_file=model_path, **kwargs)\n",
    "serving_tensorf = mlrun.new_function(\"serving_tensorf\", image=image, kind=\"serving\", requirements=[\"tensorflow\"])\n",
    "serving_tensorf.add_model(\n",
    "    framework_keras, model_path=model_object.uri, class_name=serving_class, to_list=True\n",
    ")\n",
    "\n",
    "project.deploy_function(serving_tensorf)"
   ]
  },
  {
   "cell_type": "markdown",
   "id": "3ac91cee-9f70-45a3-82f0-722d801b157e",
   "metadata": {},
   "source": [
    "## Workflow"
   ]
  },
  {
   "cell_type": "code",
   "execution_count": null,
   "id": "c6af8c87-183a-4564-963d-cdeea020bf7b",
   "metadata": {},
   "outputs": [],
   "source": [
    "project.run(workflow_path='workflow.py',watch=True, schedule=\"0 * * * *\")"
   ]
  },
  {
   "cell_type": "code",
   "execution_count": null,
   "id": "276a2de5-aafe-4ad0-86a3-2005f3c1559b",
   "metadata": {},
   "outputs": [],
   "source": []
  },
  {
   "cell_type": "code",
   "execution_count": null,
   "id": "71f9a77b-601d-48af-b939-4db8a2086f37",
   "metadata": {},
   "outputs": [],
   "source": []
  }
 ],
 "metadata": {
  "kernelspec": {
   "display_name": "mlrun-extended",
   "language": "python",
   "name": "conda-env-mlrun-extended-py"
  },
  "language_info": {
   "codemirror_mode": {
    "name": "ipython",
    "version": 3
   },
   "file_extension": ".py",
   "mimetype": "text/x-python",
   "name": "python",
   "nbconvert_exporter": "python",
   "pygments_lexer": "ipython3",
   "version": "3.9.16"
  }
 },
 "nbformat": 4,
 "nbformat_minor": 5
}
